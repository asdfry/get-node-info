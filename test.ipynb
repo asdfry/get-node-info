{
 "cells": [
  {
   "attachments": {},
   "cell_type": "markdown",
   "metadata": {},
   "source": [
    "데이터 형태 예제\n",
    "- CPU:  Intel(R) Xeon(R) Gold 6326 CPU @ 2.90GHz 64 core\n",
    "- MEM:  DIMM DDR4 Synchronous Registered (Buffered) 3200 MHz (0.3 ns) 32GiB, DIMM DDR4 Synchronous Registered (Buffered) 3200 MHz (0.3 ns) 32GiB,DIMM DDR4 Synchronous Registered (Buffered) 3200 MHz (0.3 ns) 32GiB\n",
    "- DISK:  SMC3108 SSD 893.8G, SMC3100 SSD 500G\n",
    "- NETWORK: Intel Corporation Ethernet Controller X710 for 10GBASE-T (rev 02)"
   ]
  },
  {
   "cell_type": "code",
   "execution_count": 4,
   "metadata": {},
   "outputs": [],
   "source": [
    "import subprocess\n",
    "import re\n",
    "\n",
    "from cpuinfo import get_cpu_info"
   ]
  },
  {
   "cell_type": "code",
   "execution_count": 5,
   "metadata": {},
   "outputs": [
    {
     "data": {
      "text/plain": [
       "'Intel(R) Xeon(R) E-2146G CPU @ 3.50GHz 12 core'"
      ]
     },
     "execution_count": 5,
     "metadata": {},
     "output_type": "execute_result"
    }
   ],
   "source": [
    "# CPU\n",
    "cpu_info = get_cpu_info()\n",
    "cpu = f\"{cpu_info['brand_raw']} {cpu_info['count']} core\"\n",
    "cpu"
   ]
  },
  {
   "cell_type": "code",
   "execution_count": 19,
   "metadata": {},
   "outputs": [
    {
     "data": {
      "text/plain": [
       "['DIMM DDR4 Synchronous 2933 MHz (0.3 ns) 32GiB']"
      ]
     },
     "execution_count": 19,
     "metadata": {},
     "output_type": "execute_result"
    }
   ],
   "source": [
    "# Memory\n",
    "output = subprocess.check_output([\"sudo\", \"lshw\", \"-c\", \"memory\"])\n",
    "decoded_output = output.decode()\n",
    "\n",
    "lines = [i for i in decoded_output.split(\"*-\") if i[:4] == \"bank\"]\n",
    "memory = []\n",
    "\n",
    "for line in lines:\n",
    "    pattern_description = re.compile(r\"description: (.+)\\n\")\n",
    "    pattern_size = re.compile(r\"size: (.+)\\n\")\n",
    "    \n",
    "    description = pattern_description.search(line).group(1)\n",
    "    if \"empty\" in description:\n",
    "        continue\n",
    "    size = pattern_size.search(line).group(1)\n",
    "\n",
    "    memory.append(f\"{description} {size}\")\n",
    "\n",
    "memory"
   ]
  },
  {
   "cell_type": "code",
   "execution_count": 20,
   "metadata": {},
   "outputs": [
    {
     "data": {
      "text/plain": [
       "['[SCSI Disk] Logical Volume 930GiB (998GB)',\n",
       " '[SCSI Disk] Logical Volume 446GiB (478GB)',\n",
       " '[ATA Disk] SAMSUNG MZ7LH480 447GiB (480GB)',\n",
       " '[ATA Disk] SAMSUNG MZ7LH480 447GiB (480GB)',\n",
       " '[ATA Disk] TOSHIBA MG04ACA1 931GiB (1TB)',\n",
       " '[ATA Disk] TOSHIBA MG04ACA1 931GiB (1TB)']"
      ]
     },
     "execution_count": 20,
     "metadata": {},
     "output_type": "execute_result"
    }
   ],
   "source": [
    "# Disk\n",
    "output = subprocess.check_output([\"sudo\", \"lshw\", \"-c\", \"disk\"])\n",
    "decoded_output = output.decode()\n",
    "\n",
    "lines = [i for i in decoded_output.split(\"*-\") if i.strip()]\n",
    "disk = []\n",
    "\n",
    "for line in lines:\n",
    "    pattern_description = re.compile(r\"description: (.+)\\n\")\n",
    "    pattern_product = re.compile(r\"product: (.+)\\n\")\n",
    "    pattern_capacity = re.compile(r\"capacity: (.+)\\n\")\n",
    "\n",
    "    description = pattern_description.search(line).group(1)\n",
    "    product = pattern_product.search(line).group(1)\n",
    "    capacity = pattern_capacity.search(line).group(1)\n",
    "    \n",
    "    disk.append(f\"[{description}] {product} {capacity}\")\n",
    "\n",
    "disk"
   ]
  },
  {
   "cell_type": "code",
   "execution_count": 22,
   "metadata": {},
   "outputs": [
    {
     "data": {
      "text/plain": [
       "['TOSHIBA MG04ACA1']"
      ]
     },
     "execution_count": 22,
     "metadata": {},
     "output_type": "execute_result"
    }
   ],
   "source": [
    "# Network\n",
    "output = subprocess.check_output([\"sudo\", \"lshw\", \"-c\", \"network\"])\n",
    "decoded_output = output.decode()\n",
    "\n",
    "lines = [i for i in decoded_output.split(\"*-\") if i.strip()]\n",
    "network = []\n",
    "\n",
    "for line in lines:\n",
    "    pattern_description = re.compile(r\"product: (.+)\\n\")\n",
    "    \n",
    "    capacity = pattern_capacity.search(line).group(1)\n",
    "    \n",
    "    if not product in network:\n",
    "        network.append(f\"{product}\")\n",
    "\n",
    "network"
   ]
  }
 ],
 "metadata": {
  "kernelspec": {
   "display_name": "base",
   "language": "python",
   "name": "python3"
  },
  "language_info": {
   "codemirror_mode": {
    "name": "ipython",
    "version": 3
   },
   "file_extension": ".py",
   "mimetype": "text/x-python",
   "name": "python",
   "nbconvert_exporter": "python",
   "pygments_lexer": "ipython3",
   "version": "3.10.6"
  },
  "orig_nbformat": 4
 },
 "nbformat": 4,
 "nbformat_minor": 2
}
