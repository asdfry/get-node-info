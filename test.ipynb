{
 "cells": [
  {
   "attachments": {},
   "cell_type": "markdown",
   "metadata": {},
   "source": [
    "데이터 형태 예제\n",
    "- CPU:  Intel(R) Xeon(R) Gold 6326 CPU @ 2.90GHz 64 core\n",
    "- MEM:  DIMM DDR4 Synchronous Registered (Buffered) 3200 MHz (0.3 ns) 32GiB, DIMM DDR4 Synchronous Registered (Buffered) 3200 MHz (0.3 ns) 32GiB,DIMM DDR4 Synchronous Registered (Buffered) 3200 MHz (0.3 ns) 32GiB\n",
    "- DISK:  SMC3108 SSD 893.8G, SMC3100 SSD 500G\n",
    "- NETWORK: Intel Corporation Ethernet Controller X710 for 10GBASE-T (rev 02)"
   ]
  },
  {
   "cell_type": "code",
   "execution_count": 82,
   "metadata": {},
   "outputs": [],
   "source": [
    "import subprocess\n",
    "import re"
   ]
  },
  {
   "cell_type": "code",
   "execution_count": 87,
   "metadata": {},
   "outputs": [
    {
     "data": {
      "text/plain": [
       "'Intel(R) Xeon(R) Platinum 8259CL CPU @ 2.50GHz 2 core'"
      ]
     },
     "execution_count": 87,
     "metadata": {},
     "output_type": "execute_result"
    }
   ],
   "source": [
    "# CPU\n",
    "output = subprocess.check_output([\"sudo\", \"lshw\", \"-c\", \"cpu\"])\n",
    "decoded_output = output.decode()\n",
    "\n",
    "pattern_product = re.compile(r\"product: (.+)\\n\")\n",
    "product = pattern_product.search(decoded_output).group(1)\n",
    "\n",
    "pattern_cores = re.compile(r\"cores=(\\d+)\")\n",
    "cores = pattern_cores.search(decoded_output).group(1)\n",
    "\n",
    "cpu = f\"{product} {cores} core\"\n",
    "cpu"
   ]
  },
  {
   "cell_type": "code",
   "execution_count": 88,
   "metadata": {},
   "outputs": [
    {
     "data": {
      "text/plain": [
       "['DIMM DDR4 Static column Pseudo-static Synchronous Window DRAM 2933 MHz (0.3 ns) 16GiB']"
      ]
     },
     "execution_count": 88,
     "metadata": {},
     "output_type": "execute_result"
    }
   ],
   "source": [
    "# Memory\n",
    "output = subprocess.check_output([\"sudo\", \"lshw\", \"-c\", \"memory\"])\n",
    "decoded_output = output.decode()\n",
    "\n",
    "banks = [i for i in decoded_output.split(\"*-\") if i[:4] == \"bank\"]\n",
    "memory = []\n",
    "\n",
    "for bank in banks:\n",
    "    pattern_description = re.compile(r\"description: (.+)\\n\")\n",
    "    description = pattern_description.search(bank).group(1)\n",
    "    if \"empty\" in description:\n",
    "        pass\n",
    "    pattern_size = re.compile(r\"size: (.+)\\n\")\n",
    "    size = pattern_size.search(bank).group(1)\n",
    "    memory.append(f\"{description} {size}\")\n",
    "\n",
    "memory"
   ]
  },
  {
   "cell_type": "code",
   "execution_count": 89,
   "metadata": {},
   "outputs": [
    {
     "data": {
      "text/plain": [
       "''"
      ]
     },
     "execution_count": 89,
     "metadata": {},
     "output_type": "execute_result"
    }
   ],
   "source": [
    "# Disk\n",
    "output = subprocess.check_output([\"sudo\", \"lshw\", \"-c\", \"disk\"])\n",
    "decoded_output = output.decode()\n",
    "decoded_output"
   ]
  }
 ],
 "metadata": {
  "kernelspec": {
   "display_name": "base",
   "language": "python",
   "name": "python3"
  },
  "language_info": {
   "codemirror_mode": {
    "name": "ipython",
    "version": 3
   },
   "file_extension": ".py",
   "mimetype": "text/x-python",
   "name": "python",
   "nbconvert_exporter": "python",
   "pygments_lexer": "ipython3",
   "version": "3.10.10"
  },
  "orig_nbformat": 4
 },
 "nbformat": 4,
 "nbformat_minor": 2
}
