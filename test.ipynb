{
 "cells": [
  {
   "attachments": {},
   "cell_type": "markdown",
   "metadata": {},
   "source": [
    "데이터 형태 예제\n",
    "- CPU:  Intel(R) Xeon(R) Gold 6326 CPU @ 2.90GHz 64 core\n",
    "- MEM:  DIMM DDR4 Synchronous Registered (Buffered) 3200 MHz (0.3 ns) 32GiB, DIMM DDR4 Synchronous Registered (Buffered) 3200 MHz (0.3 ns) 32GiB,DIMM DDR4 Synchronous Registered (Buffered) 3200 MHz (0.3 ns) 32GiB\n",
    "- DISK:  SMC3108 SSD 893.8G, SMC3100 SSD 500G\n",
    "- NETWORK: Intel Corporation Ethernet Controller X710 for 10GBASE-T (rev 02)"
   ]
  },
  {
   "cell_type": "code",
   "execution_count": 9,
   "metadata": {},
   "outputs": [],
   "source": [
    "import subprocess\n",
    "import re\n",
    "\n",
    "from cpuinfo import get_cpu_info"
   ]
  },
  {
   "cell_type": "code",
   "execution_count": 14,
   "metadata": {},
   "outputs": [
    {
     "data": {
      "text/plain": [
       "'Intel(R) Xeon(R) Gold 6326 CPU @ 2.90GHz 64 core'"
      ]
     },
     "execution_count": 14,
     "metadata": {},
     "output_type": "execute_result"
    }
   ],
   "source": [
    "# CPU\n",
    "cpu_info = get_cpu_info()\n",
    "cpu = f\"{cpu_info['brand_raw']} {cpu_info['count']} core\"\n",
    "cpu"
   ]
  },
  {
   "cell_type": "code",
   "execution_count": 16,
   "metadata": {},
   "outputs": [
    {
     "data": {
      "text/plain": [
       "[]"
      ]
     },
     "execution_count": 16,
     "metadata": {},
     "output_type": "execute_result"
    }
   ],
   "source": [
    "# Memory\n",
    "output = subprocess.check_output([\"lshw\", \"-c\", \"memory\"])\n",
    "decoded_output = output.decode()\n",
    "\n",
    "banks = [i for i in decoded_output.split(\"*-\") if i[:4] == \"bank\"]\n",
    "memory = []\n",
    "\n",
    "for bank in banks:\n",
    "    pattern_description = re.compile(r\"description: (.+)\\n\")\n",
    "    description = pattern_description.search(bank).group(1)\n",
    "    if \"empty\" in description:\n",
    "        pass\n",
    "    pattern_size = re.compile(r\"size: (.+)\\n\")\n",
    "    size = pattern_size.search(bank).group(1)\n",
    "    memory.append(f\"{description} {size}\")\n",
    "\n",
    "memory"
   ]
  }
 ],
 "metadata": {
  "kernelspec": {
   "display_name": "base",
   "language": "python",
   "name": "python3"
  },
  "language_info": {
   "codemirror_mode": {
    "name": "ipython",
    "version": 3
   },
   "file_extension": ".py",
   "mimetype": "text/x-python",
   "name": "python",
   "nbconvert_exporter": "python",
   "pygments_lexer": "ipython3",
   "version": "3.8.10"
  },
  "orig_nbformat": 4
 },
 "nbformat": 4,
 "nbformat_minor": 2
}
