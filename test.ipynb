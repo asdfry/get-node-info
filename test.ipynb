{
 "cells": [
  {
   "attachments": {},
   "cell_type": "markdown",
   "metadata": {},
   "source": [
    "데이터 형태 예제\n",
    "- CPU:  Intel(R) Xeon(R) Gold 6326 CPU @ 2.90GHz 64 core\n",
    "- MEM:  DIMM DDR4 Synchronous Registered (Buffered) 3200 MHz (0.3 ns) 32GiB, DIMM DDR4 Synchronous Registered (Buffered) 3200 MHz (0.3 ns) 32GiB,DIMM DDR4 Synchronous Registered (Buffered) 3200 MHz (0.3 ns) 32GiB\n",
    "- DISK:  SMC3108 SSD 893.8G, SMC3100 SSD 500G\n",
    "- NETWORK: Intel Corporation Ethernet Controller X710 for 10GBASE-T (rev 02)"
   ]
  },
  {
   "cell_type": "code",
   "execution_count": 1,
   "metadata": {},
   "outputs": [],
   "source": [
    "import subprocess\n",
    "import re\n",
    "\n",
    "from cpuinfo import get_cpu_info"
   ]
  },
  {
   "cell_type": "code",
   "execution_count": 2,
   "metadata": {},
   "outputs": [
    {
     "data": {
      "text/plain": [
       "'Intel(R) Xeon(R) Platinum 8259CL CPU @ 2.50GHz 4 core'"
      ]
     },
     "execution_count": 2,
     "metadata": {},
     "output_type": "execute_result"
    }
   ],
   "source": [
    "# CPU\n",
    "cpu_info = get_cpu_info()\n",
    "cpu = f\"{cpu_info['brand_raw']} {cpu_info['count']} core\"\n",
    "cpu"
   ]
  },
  {
   "cell_type": "code",
   "execution_count": 3,
   "metadata": {},
   "outputs": [
    {
     "data": {
      "text/plain": [
       "['DIMM DDR4 Static column Pseudo-static Synchronous Window DRAM 2933 MHz (0.3 ns) 16GiB']"
      ]
     },
     "execution_count": 3,
     "metadata": {},
     "output_type": "execute_result"
    }
   ],
   "source": [
    "# Memory\n",
    "output = subprocess.check_output([\"sudo\", \"lshw\", \"-c\", \"memory\"])\n",
    "decoded_output = output.decode()\n",
    "\n",
    "lines = [i for i in decoded_output.split(\"*-\") if i[:4] == \"bank\"]\n",
    "memory = []\n",
    "\n",
    "for line in lines:\n",
    "    pattern_description = re.compile(r\"description: (.+)\\n\")\n",
    "    pattern_size = re.compile(r\"size: (.+)\\n\")\n",
    "    \n",
    "    description = pattern_description.search(line).group(1)\n",
    "    if \"empty\" in description:\n",
    "        continue\n",
    "    size = pattern_size.search(line).group(1)\n",
    "\n",
    "    memory.append(f\"{description} {size}\")\n",
    "\n",
    "memory"
   ]
  },
  {
   "cell_type": "code",
   "execution_count": 4,
   "metadata": {},
   "outputs": [
    {
     "data": {
      "text/plain": [
       "[]"
      ]
     },
     "execution_count": 4,
     "metadata": {},
     "output_type": "execute_result"
    }
   ],
   "source": [
    "# Disk\n",
    "output = subprocess.check_output([\"sudo\", \"lshw\", \"-c\", \"disk\"])\n",
    "decoded_output = output.decode()\n",
    "\n",
    "lines = [i for i in decoded_output.split(\"*-\") if i.strip()]\n",
    "disk = []\n",
    "\n",
    "for line in lines:\n",
    "    pattern_description = re.compile(r\"description: (.+)\\n\")\n",
    "    pattern_product = re.compile(r\"product: (.+)\\n\")\n",
    "    pattern_capacity = re.compile(r\"capacity: (.+)\\n\")\n",
    "\n",
    "    description = pattern_description.search(line).group(1)\n",
    "    product = pattern_product.search(line).group(1)\n",
    "    capacity = pattern_capacity.search(line).group(1)\n",
    "    \n",
    "    disk.append(f\"[{description}] {product} {capacity}\")\n",
    "\n",
    "disk"
   ]
  },
  {
   "cell_type": "code",
   "execution_count": 5,
   "metadata": {},
   "outputs": [
    {
     "data": {
      "text/plain": [
       "['Elastic Network Adapter (ENA)']"
      ]
     },
     "execution_count": 5,
     "metadata": {},
     "output_type": "execute_result"
    }
   ],
   "source": [
    "# Network\n",
    "output = subprocess.check_output([\"sudo\", \"lshw\", \"-c\", \"network\"])\n",
    "decoded_output = output.decode()\n",
    "\n",
    "lines = [i for i in decoded_output.split(\"*-\") if i.strip()]\n",
    "network = []\n",
    "\n",
    "for line in lines:\n",
    "    pattern_product = re.compile(r\"product: (.+)\\n\")\n",
    "    \n",
    "    searched = pattern_product.search(line)\n",
    "    if not searched:\n",
    "        continue\n",
    "    product = searched.group(1)\n",
    "    \n",
    "    if not product in network:\n",
    "        network.append(f\"{product}\")\n",
    "\n",
    "network"
   ]
  },
  {
   "cell_type": "code",
   "execution_count": 2,
   "metadata": {},
   "outputs": [],
   "source": [
    "from kubernetes import client, config\n",
    "from app.get_info import *\n",
    "from datetime import datetime"
   ]
  },
  {
   "cell_type": "code",
   "execution_count": 3,
   "metadata": {},
   "outputs": [],
   "source": [
    "# Load kubernetes config\n",
    "cfg = config.load_kube_config()\n",
    "\n",
    "# Create kubernetes client\n",
    "k8s_client = client.ApiClient(cfg)\n",
    "\n",
    "# Create kubernetes v1\n",
    "v1 = client.CoreV1Api(k8s_client)\n",
    "\n",
    "node_name = \"ip-172-31-57-102.ap-northeast-2.compute.internal\""
   ]
  },
  {
   "cell_type": "code",
   "execution_count": 31,
   "metadata": {},
   "outputs": [
    {
     "name": "stderr",
     "output_type": "stream",
     "text": [
      "WARNING: you should run this program as super-user.\n",
      "WARNING: output may be incomplete or inaccurate, you should run this program as super-user.\n",
      "WARNING: you should run this program as super-user.\n",
      "WARNING: output may be incomplete or inaccurate, you should run this program as super-user.\n",
      "WARNING: you should run this program as super-user.\n",
      "WARNING: output may be incomplete or inaccurate, you should run this program as super-user.\n"
     ]
    }
   ],
   "source": [
    "hardware_info = {\n",
    "    \"updated_datetime\": datetime.now().isoformat(),\n",
    "    \"cpu\": cpu_info(),\n",
    "    \"memory\": memory_info(),\n",
    "    \"disk\": disk_info(),\n",
    "    \"network\": network_info(),\n",
    "}"
   ]
  },
  {
   "cell_type": "code",
   "execution_count": 32,
   "metadata": {},
   "outputs": [],
   "source": [
    "# Get node annotations\n",
    "node = v1.read_node(name=node_name)\n",
    "hardware_info = str(hardware_info).replace(\"'\", '\"')\n",
    "node.metadata.annotations[\"hardware-info\"] = hardware_info"
   ]
  },
  {
   "cell_type": "code",
   "execution_count": 34,
   "metadata": {},
   "outputs": [
    {
     "data": {
      "text/plain": [
       "{'api_version': 'v1',\n",
       " 'kind': 'Node',\n",
       " 'metadata': {'annotations': {'flannel.alpha.coreos.com/backend-data': '{\"VNI\":1,\"VtepMAC\":\"82:d2:60:d4:e9:1d\"}',\n",
       "                              'flannel.alpha.coreos.com/backend-type': 'vxlan',\n",
       "                              'flannel.alpha.coreos.com/kube-subnet-manager': 'true',\n",
       "                              'flannel.alpha.coreos.com/public-ip': '172.31.57.102',\n",
       "                              'hardware-info': '{\"updated_datetime\": '\n",
       "                                               '\"2023-06-25T13:41:05.243288\", '\n",
       "                                               '\"cpu\": \"Intel(R) Xeon(R) '\n",
       "                                               'Platinum 8259CL CPU @ 2.50GHz '\n",
       "                                               '4 core\", \"memory\": [], \"disk\": '\n",
       "                                               '[], \"network\": [\"Elastic '\n",
       "                                               'Network Adapter (ENA)\"]}',\n",
       "                              'kubeadm.alpha.kubernetes.io/cri-socket': 'unix:///var/run/containerd/containerd.sock',\n",
       "                              'node.alpha.kubernetes.io/ttl': '0',\n",
       "                              'volumes.kubernetes.io/controller-managed-attach-detach': 'true'},\n",
       "              'creation_timestamp': datetime.datetime(2023, 6, 8, 7, 35, 53, tzinfo=tzlocal()),\n",
       "              'deletion_grace_period_seconds': None,\n",
       "              'deletion_timestamp': None,\n",
       "              'finalizers': None,\n",
       "              'generate_name': None,\n",
       "              'generation': None,\n",
       "              'labels': {'beta.kubernetes.io/arch': 'amd64',\n",
       "                         'beta.kubernetes.io/os': 'linux',\n",
       "                         'kubernetes.io/arch': 'amd64',\n",
       "                         'kubernetes.io/hostname': 'ip-172-31-57-102.ap-northeast-2.compute.internal',\n",
       "                         'kubernetes.io/os': 'linux',\n",
       "                         'node-role.kubernetes.io/control-plane': '',\n",
       "                         'node.kubernetes.io/exclude-from-external-load-balancers': ''},\n",
       "              'managed_fields': [{'api_version': 'v1',\n",
       "                                  'fields_type': 'FieldsV1',\n",
       "                                  'fields_v1': {'f:metadata': {'f:annotations': {'.': {},\n",
       "                                                                                 'f:volumes.kubernetes.io/controller-managed-attach-detach': {}},\n",
       "                                                               'f:labels': {'.': {},\n",
       "                                                                            'f:beta.kubernetes.io/arch': {},\n",
       "                                                                            'f:beta.kubernetes.io/os': {},\n",
       "                                                                            'f:kubernetes.io/arch': {},\n",
       "                                                                            'f:kubernetes.io/hostname': {},\n",
       "                                                                            'f:kubernetes.io/os': {}}}},\n",
       "                                  'manager': 'kubelet',\n",
       "                                  'operation': 'Update',\n",
       "                                  'subresource': None,\n",
       "                                  'time': datetime.datetime(2023, 6, 8, 7, 35, 52, tzinfo=tzlocal())},\n",
       "                                 {'api_version': 'v1',\n",
       "                                  'fields_type': 'FieldsV1',\n",
       "                                  'fields_v1': {'f:metadata': {'f:annotations': {'f:kubeadm.alpha.kubernetes.io/cri-socket': {}},\n",
       "                                                               'f:labels': {'f:node-role.kubernetes.io/control-plane': {},\n",
       "                                                                            'f:node.kubernetes.io/exclude-from-external-load-balancers': {}}}},\n",
       "                                  'manager': 'kubeadm',\n",
       "                                  'operation': 'Update',\n",
       "                                  'subresource': None,\n",
       "                                  'time': datetime.datetime(2023, 6, 8, 7, 35, 55, tzinfo=tzlocal())},\n",
       "                                 {'api_version': 'v1',\n",
       "                                  'fields_type': 'FieldsV1',\n",
       "                                  'fields_v1': {'f:metadata': {'f:annotations': {'f:node.alpha.kubernetes.io/ttl': {}}},\n",
       "                                                'f:spec': {'f:podCIDR': {},\n",
       "                                                           'f:podCIDRs': {'.': {},\n",
       "                                                                          'v:\"10.244.0.0/24\"': {}},\n",
       "                                                           'f:taints': {}}},\n",
       "                                  'manager': 'kube-controller-manager',\n",
       "                                  'operation': 'Update',\n",
       "                                  'subresource': None,\n",
       "                                  'time': datetime.datetime(2023, 6, 8, 7, 36, 8, tzinfo=tzlocal())},\n",
       "                                 {'api_version': 'v1',\n",
       "                                  'fields_type': 'FieldsV1',\n",
       "                                  'fields_v1': {'f:metadata': {'f:annotations': {'f:flannel.alpha.coreos.com/backend-data': {},\n",
       "                                                                                 'f:flannel.alpha.coreos.com/backend-type': {},\n",
       "                                                                                 'f:flannel.alpha.coreos.com/kube-subnet-manager': {},\n",
       "                                                                                 'f:flannel.alpha.coreos.com/public-ip': {}}},\n",
       "                                                'f:status': {'f:conditions': {'k:{\"type\":\"NetworkUnavailable\"}': {'.': {},\n",
       "                                                                                                                  'f:lastHeartbeatTime': {},\n",
       "                                                                                                                  'f:lastTransitionTime': {},\n",
       "                                                                                                                  'f:message': {},\n",
       "                                                                                                                  'f:reason': {},\n",
       "                                                                                                                  'f:status': {},\n",
       "                                                                                                                  'f:type': {}}}}},\n",
       "                                  'manager': 'flanneld',\n",
       "                                  'operation': 'Update',\n",
       "                                  'subresource': 'status',\n",
       "                                  'time': datetime.datetime(2023, 6, 8, 7, 41, 30, tzinfo=tzlocal())},\n",
       "                                 {'api_version': 'v1',\n",
       "                                  'fields_type': 'FieldsV1',\n",
       "                                  'fields_v1': {'f:status': {'f:allocatable': {'f:ephemeral-storage': {}},\n",
       "                                                             'f:conditions': {'k:{\"type\":\"DiskPressure\"}': {'f:lastHeartbeatTime': {}},\n",
       "                                                                              'k:{\"type\":\"MemoryPressure\"}': {'f:lastHeartbeatTime': {}},\n",
       "                                                                              'k:{\"type\":\"PIDPressure\"}': {'f:lastHeartbeatTime': {}},\n",
       "                                                                              'k:{\"type\":\"Ready\"}': {'f:lastHeartbeatTime': {},\n",
       "                                                                                                     'f:lastTransitionTime': {},\n",
       "                                                                                                     'f:message': {},\n",
       "                                                                                                     'f:reason': {},\n",
       "                                                                                                     'f:status': {}}},\n",
       "                                                             'f:images': {}}},\n",
       "                                  'manager': 'kubelet',\n",
       "                                  'operation': 'Update',\n",
       "                                  'subresource': 'status',\n",
       "                                  'time': datetime.datetime(2023, 6, 25, 13, 37, 11, tzinfo=tzlocal())},\n",
       "                                 {'api_version': 'v1',\n",
       "                                  'fields_type': 'FieldsV1',\n",
       "                                  'fields_v1': {'f:metadata': {'f:annotations': {'f:hardware-info': {}}}},\n",
       "                                  'manager': 'OpenAPI-Generator',\n",
       "                                  'operation': 'Update',\n",
       "                                  'subresource': None,\n",
       "                                  'time': datetime.datetime(2023, 6, 25, 13, 41, 24, tzinfo=tzlocal())}],\n",
       "              'name': 'ip-172-31-57-102.ap-northeast-2.compute.internal',\n",
       "              'namespace': None,\n",
       "              'owner_references': None,\n",
       "              'resource_version': '1942004',\n",
       "              'self_link': None,\n",
       "              'uid': 'fc0f5651-2340-46d4-b63e-55d8c6653c09'},\n",
       " 'spec': {'config_source': None,\n",
       "          'external_id': None,\n",
       "          'pod_cid_rs': ['10.244.0.0/24'],\n",
       "          'pod_cidr': '10.244.0.0/24',\n",
       "          'provider_id': None,\n",
       "          'taints': [{'effect': 'NoSchedule',\n",
       "                      'key': 'node-role.kubernetes.io/control-plane',\n",
       "                      'time_added': None,\n",
       "                      'value': None}],\n",
       "          'unschedulable': None},\n",
       " 'status': {'addresses': [{'address': '172.31.57.102', 'type': 'InternalIP'},\n",
       "                          {'address': 'ip-172-31-57-102.ap-northeast-2.compute.internal',\n",
       "                           'type': 'Hostname'}],\n",
       "            'allocatable': {'cpu': '4',\n",
       "                            'ephemeral-storage': '48307982666',\n",
       "                            'hugepages-1Gi': '0',\n",
       "                            'hugepages-2Mi': '0',\n",
       "                            'memory': '15973332Ki',\n",
       "                            'pods': '110'},\n",
       "            'capacity': {'cpu': '4',\n",
       "                         'ephemeral-storage': '52417516Ki',\n",
       "                         'hugepages-1Gi': '0',\n",
       "                         'hugepages-2Mi': '0',\n",
       "                         'memory': '16075732Ki',\n",
       "                         'pods': '110'},\n",
       "            'conditions': [{'last_heartbeat_time': datetime.datetime(2023, 6, 8, 7, 41, 30, tzinfo=tzlocal()),\n",
       "                            'last_transition_time': datetime.datetime(2023, 6, 8, 7, 41, 30, tzinfo=tzlocal()),\n",
       "                            'message': 'Flannel is running on this node',\n",
       "                            'reason': 'FlannelIsUp',\n",
       "                            'status': 'False',\n",
       "                            'type': 'NetworkUnavailable'},\n",
       "                           {'last_heartbeat_time': datetime.datetime(2023, 6, 25, 13, 37, 11, tzinfo=tzlocal()),\n",
       "                            'last_transition_time': datetime.datetime(2023, 6, 8, 7, 35, 51, tzinfo=tzlocal()),\n",
       "                            'message': 'kubelet has sufficient memory '\n",
       "                                       'available',\n",
       "                            'reason': 'KubeletHasSufficientMemory',\n",
       "                            'status': 'False',\n",
       "                            'type': 'MemoryPressure'},\n",
       "                           {'last_heartbeat_time': datetime.datetime(2023, 6, 25, 13, 37, 11, tzinfo=tzlocal()),\n",
       "                            'last_transition_time': datetime.datetime(2023, 6, 8, 7, 35, 51, tzinfo=tzlocal()),\n",
       "                            'message': 'kubelet has no disk pressure',\n",
       "                            'reason': 'KubeletHasNoDiskPressure',\n",
       "                            'status': 'False',\n",
       "                            'type': 'DiskPressure'},\n",
       "                           {'last_heartbeat_time': datetime.datetime(2023, 6, 25, 13, 37, 11, tzinfo=tzlocal()),\n",
       "                            'last_transition_time': datetime.datetime(2023, 6, 8, 7, 35, 51, tzinfo=tzlocal()),\n",
       "                            'message': 'kubelet has sufficient PID available',\n",
       "                            'reason': 'KubeletHasSufficientPID',\n",
       "                            'status': 'False',\n",
       "                            'type': 'PIDPressure'},\n",
       "                           {'last_heartbeat_time': datetime.datetime(2023, 6, 25, 13, 37, 11, tzinfo=tzlocal()),\n",
       "                            'last_transition_time': datetime.datetime(2023, 6, 8, 7, 35, 56, tzinfo=tzlocal()),\n",
       "                            'message': 'kubelet is posting ready status',\n",
       "                            'reason': 'KubeletReady',\n",
       "                            'status': 'True',\n",
       "                            'type': 'Ready'}],\n",
       "            'config': None,\n",
       "            'daemon_endpoints': {'kubelet_endpoint': {'port': 10250}},\n",
       "            'images': [{'names': ['docker.io/library/mysql@sha256:4bae98614cd6ad1aecbdd32ff1b37b93fb0ee22b069469e7bc9679bacef1abd2'],\n",
       "                        'size_bytes': 165670323},\n",
       "                       {'names': ['docker.io/library/mysql@sha256:15f069202c46cf861ce429423ae3f8dfa6423306fbf399eaef36094ce30dd75c',\n",
       "                                  'docker.io/library/mysql:latest'],\n",
       "                        'size_bytes': 165661151},\n",
       "                       {'names': ['registry.k8s.io/etcd@sha256:51eae8381dcb1078289fa7b4f3df2630cdc18d09fb56f8e56b41c40e191d6c83',\n",
       "                                  'registry.k8s.io/etcd:3.5.7-0'],\n",
       "                        'size_bytes': 101639218},\n",
       "                       {'names': ['docker.io/asdfry/get-node-info@sha256:3f6893a23df05b9cf377ccbb665109a57cf161844a4c184c2f013695f170333f',\n",
       "                                  'docker.io/asdfry/get-node-info:20230625'],\n",
       "                        'size_bytes': 78112771},\n",
       "                       {'names': ['docker.io/asdfry/watching-pod@sha256:5930c92317fa4dc632ce15199878e0e53fcb7f3ebc4338e160d11cb67514bc44'],\n",
       "                        'size_bytes': 74226063},\n",
       "                       {'names': ['docker.io/asdfry/watching-pod@sha256:0d4893af4500a4b29e1ee591e88301591a0c1f1162157672a223ed6f55a5db58',\n",
       "                                  'docker.io/asdfry/watching-pod:20230624'],\n",
       "                        'size_bytes': 74225992},\n",
       "                       {'names': ['docker.io/asdfry/watching-pod@sha256:664d423abcc07195847c5cc570d8656addda3dc990bd3ae0fa0468f50b72bd3c'],\n",
       "                        'size_bytes': 74225877},\n",
       "                       {'names': ['docker.io/asdfry/watching-pod@sha256:840150f5f82e35b9bab105c9f21506fcbaaaa0926a40289bea23a20fb7954dad',\n",
       "                                  'docker.io/asdfry/watching-pod:20230625'],\n",
       "                        'size_bytes': 74225833},\n",
       "                       {'names': ['docker.io/asdfry/watching-pod@sha256:9ba024fc74f4195d0f9aca83c2290b7f74a1c045ed1cc7ed2ace3a4466f11182'],\n",
       "                        'size_bytes': 74225681},\n",
       "                       {'names': ['docker.io/asdfry/watching-pod@sha256:5199cd8de7200d2d3f23e04e9c114e982dc1d90e0ee5a297ed25dfdac6833cf7',\n",
       "                                  'docker.io/asdfry/watching-pod:20230619'],\n",
       "                        'size_bytes': 74225250},\n",
       "                       {'names': ['docker.io/asdfry/watching-pod@sha256:efac02b404714f3897a2716dab6ed2478ca5f36d36bd4af743bf05b07f86c006',\n",
       "                                  'docker.io/asdfry/watching-pod:20230616'],\n",
       "                        'size_bytes': 74224669},\n",
       "                       {'names': ['docker.io/asdfry/watching-pod@sha256:111fc8b4803c61c8c2e6f710480111c2f8c58c3941e5d069831ac05435d5fae1',\n",
       "                                  'docker.io/asdfry/watching-pod:20230612'],\n",
       "                        'size_bytes': 69927620},\n",
       "                       {'names': ['docker.io/asdfry/watching-pod@sha256:936bbef4d44496b46a1a076e3df9509e54fab769483d7b0d7dd54457e241aff3'],\n",
       "                        'size_bytes': 69927417},\n",
       "                       {'names': ['docker.io/asdfry/watching-pod@sha256:2413642687f524babd7bdbc20af05210fc11133b459dfaee46bddbbef3d89df8'],\n",
       "                        'size_bytes': 69927384},\n",
       "                       {'names': ['docker.io/asdfry/watching-pod@sha256:c231db2a5002fb09b0f601627ba136f27129e525e694e9a995a59f13cd9a1a4f',\n",
       "                                  'docker.io/asdfry/watching-pod:app'],\n",
       "                        'size_bytes': 69927249},\n",
       "                       {'names': ['docker.io/asdfry/watching-pod@sha256:6fda0b9332d65ee37422382463d9bd6ea56d276f4d767eee9abe1423e07c7a32'],\n",
       "                        'size_bytes': 69927218},\n",
       "                       {'names': ['docker.io/asdfry/watching-pod@sha256:bee18783738af939d3d67728d8ca9877451a6347866013d73333dcf54ba46aae'],\n",
       "                        'size_bytes': 69927197},\n",
       "                       {'names': ['docker.io/asdfry/watching-pod@sha256:3b923f98bd81b4f15581781002b130794e7a12ab63afcf562958bc3993002f8d',\n",
       "                                  'docker.io/asdfry/watching-pod:20230610'],\n",
       "                        'size_bytes': 69927153},\n",
       "                       {'names': ['docker.io/asdfry/watching-pod@sha256:01614e31f4cacafccc3bd69e253bb7a2296d4530b700c51b0e1326cc7b8437f9'],\n",
       "                        'size_bytes': 69927125},\n",
       "                       {'names': ['docker.io/asdfry/watching-pod@sha256:a4cca2cf8e454a91cc2406bd3281bcf702965e2334764577484b355c0bb7fb14'],\n",
       "                        'size_bytes': 69927008},\n",
       "                       {'names': ['docker.io/asdfry/watching-pod@sha256:0e0a5047a95e88c873252f9fda1a9440b0bec1e09ee4b3b91944a1daf56285ff',\n",
       "                                  'docker.io/asdfry/watching-pod:20230613'],\n",
       "                        'size_bytes': 69926950},\n",
       "                       {'names': ['docker.io/asdfry/watching-pod@sha256:8e871a949b189c91797f00b9f0d5ec0264922d64fd8a135d34d28fc9a7a5d801'],\n",
       "                        'size_bytes': 69926796},\n",
       "                       {'names': ['docker.io/asdfry/watching-pod@sha256:264f747fec9b9a41a96b3f4a3c16411090198590d09f322670851ee47fd83882'],\n",
       "                        'size_bytes': 69926577},\n",
       "                       {'names': ['docker.io/sysnet4admin/echo-hname@sha256:a01efe0311050cbb42bd11ea8aa219460dc36cabbae0d17c3816dc9d1b2e1d40',\n",
       "                                  'docker.io/sysnet4admin/echo-hname:latest'],\n",
       "                        'size_bytes': 50692665},\n",
       "                       {'names': ['docker.io/library/nginx@sha256:f7988fb6c02e0ce69257d9bd9cf37ae20a60f1df7563c3a2a6abe24160306b8d',\n",
       "                                  'docker.io/library/nginx:1.14.2'],\n",
       "                        'size_bytes': 44710204},\n",
       "                       {'names': ['registry.k8s.io/kube-apiserver@sha256:94e48585629fde3c1d06c6ae8f62885d3052f12a1072ffd97611296525eff5b9',\n",
       "                                  'registry.k8s.io/kube-apiserver:v1.27.2'],\n",
       "                        'size_bytes': 33362711},\n",
       "                       {'names': ['registry.k8s.io/kube-controller-manager@sha256:b0990ef7c9ce9edd0f57355a7e4cb43a71e864bfd2cd55bc68e4998e00213b56',\n",
       "                                  'registry.k8s.io/kube-controller-manager:v1.27.2'],\n",
       "                        'size_bytes': 30971340},\n",
       "                       {'names': ['docker.io/flannel/flannel@sha256:5f83f1243057458e27249157394e3859cf31cc075354af150d497f2ebc8b54db',\n",
       "                                  'docker.io/flannel/flannel:v0.22.0'],\n",
       "                        'size_bytes': 26855532},\n",
       "                       {'names': ['registry.k8s.io/kube-proxy@sha256:1e4f13f5f5c215813fb9c9c6f56da1c0354363f2a69bd12732658f79d585864f',\n",
       "                                  'registry.k8s.io/kube-proxy:v1.27.2'],\n",
       "                        'size_bytes': 23895334},\n",
       "                       {'names': ['registry.k8s.io/kube-scheduler@sha256:89e8c591cc58bd0e8651dddee3de290399b1ae5ad14779afe84779083fe05177',\n",
       "                                  'registry.k8s.io/kube-scheduler:v1.27.2'],\n",
       "                        'size_bytes': 18230943},\n",
       "                       {'names': ['registry.k8s.io/coredns/coredns@sha256:a0ead06651cf580044aeb0a0feba63591858fb2e43ade8c9dea45a6a89ae7e5e',\n",
       "                                  'registry.k8s.io/coredns/coredns:v1.10.1'],\n",
       "                        'size_bytes': 16190758},\n",
       "                       {'names': ['docker.io/flannel/flannel-cni-plugin@sha256:bf4b62b131666d040f35a327d906ee5a3418280b68a88d9b9c7e828057210443',\n",
       "                                  'docker.io/flannel/flannel-cni-plugin:v1.1.2'],\n",
       "                        'size_bytes': 3842055},\n",
       "                       {'names': ['registry.k8s.io/pause@sha256:7031c1b283388d2c2e09b57badb803c05ebed362dc88d84b480cc47f72a21097',\n",
       "                                  'registry.k8s.io/pause:3.9'],\n",
       "                        'size_bytes': 321520},\n",
       "                       {'names': ['registry.k8s.io/pause@sha256:3d380ca8864549e74af4b29c10f9cb0956236dfb01c40ca076fb6c37253234db',\n",
       "                                  'registry.k8s.io/pause:3.6'],\n",
       "                        'size_bytes': 301773}],\n",
       "            'node_info': {'architecture': 'amd64',\n",
       "                          'boot_id': 'd8999f66-ad94-457f-837c-7e58c58ce93b',\n",
       "                          'container_runtime_version': 'containerd://1.6.21',\n",
       "                          'kernel_version': '3.10.0-1160.76.1.el7.x86_64',\n",
       "                          'kube_proxy_version': 'v1.27.2',\n",
       "                          'kubelet_version': 'v1.27.2',\n",
       "                          'machine_id': 'e887fc2c7f8279b206b7f75ba0a2b0bd',\n",
       "                          'operating_system': 'linux',\n",
       "                          'os_image': 'CentOS Linux 7 (Core)',\n",
       "                          'system_uuid': 'EC2138FB-6D65-11B8-3B60-7A0FEF1AF53E'},\n",
       "            'phase': None,\n",
       "            'volumes_attached': None,\n",
       "            'volumes_in_use': None}}"
      ]
     },
     "execution_count": 34,
     "metadata": {},
     "output_type": "execute_result"
    }
   ],
   "source": [
    "# Patch node annotations\n",
    "v1.patch_node(name=node_name, body=node)"
   ]
  },
  {
   "cell_type": "code",
   "execution_count": 13,
   "metadata": {},
   "outputs": [],
   "source": [
    "import json\n",
    "\n",
    "node = v1.read_node(name=node_name)\n",
    "\n",
    "hw_info = json.loads(node.metadata.annotations[\"hardware-info\"])"
   ]
  },
  {
   "cell_type": "code",
   "execution_count": 14,
   "metadata": {},
   "outputs": [
    {
     "data": {
      "text/plain": [
       "{'updated_datetime': '2023-06-25T13:58:41.381626',\n",
       " 'cpu': 'Intel(R) Xeon(R) Platinum 8259CL CPU @ 2.50GHz 4 core',\n",
       " 'memory': ['DIMM DDR4 Static column Pseudo-static Synchronous Window DRAM 2933 MHz (0.3 ns) 16GiB'],\n",
       " 'disk': ['[NVMe disk] 50GiB (53GB)'],\n",
       " 'network': ['Elastic Network Adapter (ENA)']}"
      ]
     },
     "execution_count": 14,
     "metadata": {},
     "output_type": "execute_result"
    }
   ],
   "source": [
    "hw_info"
   ]
  }
 ],
 "metadata": {
  "kernelspec": {
   "display_name": "base",
   "language": "python",
   "name": "python3"
  },
  "language_info": {
   "codemirror_mode": {
    "name": "ipython",
    "version": 3
   },
   "file_extension": ".py",
   "mimetype": "text/x-python",
   "name": "python",
   "nbconvert_exporter": "python",
   "pygments_lexer": "ipython3",
   "version": "3.10.10"
  },
  "orig_nbformat": 4
 },
 "nbformat": 4,
 "nbformat_minor": 2
}
